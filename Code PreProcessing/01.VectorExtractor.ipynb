{
 "cells": [
  {
   "cell_type": "code",
   "execution_count": 2,
   "metadata": {},
   "outputs": [],
   "source": [
    "from transformers import pipeline\n",
    "import os\n",
    "import numpy as np\n",
    "from dask.distributed import Client\n",
    "from pathlib import Path\n",
    "\n",
    "pipe = pipeline(\"feature-extraction\", model=\"microsoft/codebert-base\")"
   ]
  },
  {
   "cell_type": "markdown",
   "metadata": {},
   "source": [
    "### Why CodeBert?\n",
    "\n",
    "Codebert is a model trained on both comments (of the code) and code. [Model](https://huggingface.co/microsoft/codebert-base). [Data](https://github.com/github/CodeSearchNet#data).\n"
   ]
  },
  {
   "cell_type": "code",
   "execution_count": 3,
   "metadata": {},
   "outputs": [
    {
     "data": {
      "text/plain": [
       "(2, 1, 4)"
      ]
     },
     "execution_count": 3,
     "metadata": {},
     "output_type": "execute_result"
    }
   ],
   "source": [
    "vector = pipe([\"import os\", \"a\"])\n",
    "len(vector), len(vector[0]), len(vector[0][0])"
   ]
  },
  {
   "cell_type": "markdown",
   "metadata": {},
   "source": [
    "# Job\n"
   ]
  },
  {
   "cell_type": "code",
   "execution_count": 4,
   "metadata": {},
   "outputs": [],
   "source": [
    "path_dir = \"./input_data/\""
   ]
  },
  {
   "cell_type": "code",
   "execution_count": 5,
   "metadata": {},
   "outputs": [
    {
     "name": "stdout",
     "output_type": "stream",
     "text": [
      "[WindowsPath('input_data/ClimbingStairs.py'), WindowsPath('input_data/Containers.py'), WindowsPath('input_data/HouseRobberDynProg.py')]\n"
     ]
    }
   ],
   "source": [
    "all_files = [Path(path_dir + x) for x in os.listdir(path_dir)]\n",
    "print(all_files[:3])"
   ]
  },
  {
   "cell_type": "code",
   "execution_count": 6,
   "metadata": {},
   "outputs": [],
   "source": [
    "def get_texts(filepath):\n",
    "    with open(filepath) as file:\n",
    "        return file.read()"
   ]
  },
  {
   "cell_type": "code",
   "execution_count": 6,
   "metadata": {},
   "outputs": [
    {
     "name": "stdout",
     "output_type": "stream",
     "text": [
      "12 1 192 768\n",
      "12 768\n"
     ]
    }
   ],
   "source": [
    "corpus = [get_texts(path) for path in all_files]\n",
    "embeddings = [out for out in pipe(corpus, padding=True, truncation=True)]\n",
    "print(\n",
    "    len(embeddings), len(embeddings[0]), len(embeddings[0][0]), len(embeddings[0][0][0])\n",
    ")\n",
    "cls_components = [x[0][0] for x in embeddings]\n",
    "print(len(cls_components), len(cls_components[0]))"
   ]
  },
  {
   "cell_type": "code",
   "execution_count": 7,
   "metadata": {},
   "outputs": [],
   "source": [
    "import pandas as pd\n",
    "\n",
    "names = [\n",
    "    \"María Rodríguez López\",\n",
    "    \"Alejandro Pérez García\",\n",
    "    \"Ana Martínez Fernández\",\n",
    "    \"Juan García Sánchez\",\n",
    "    \"Carmen González Ruiz\",\n",
    "]\n",
    "dates = [\n",
    "    \"3-10-2023 09:15\",\n",
    "    \"9-10-2023 14:30\",\n",
    "    \"15-10-2023 18:45\",\n",
    "    \"21-10-2023 11:20\",\n",
    "    \"5-11-2023 20:00\",\n",
    "    \"11-11-2023 16:10\",\n",
    "    \"17-11-2023 08:55\",\n",
    "    \"23-11-2023 22:25\",\n",
    "    \"29-11-2023 13:40\",\n",
    "    \"6-12-2023 07:30\",\n",
    "    \"12-12-2023 19:55\",\n",
    "    \"18-12-2023 10:50\",\n",
    "]\n",
    "\n",
    "subjects = [\n",
    "    \"Programación Orientada a Objetos (POO)\",\n",
    "    \"Estructuras de Datos y Algoritmos\",\n",
    "    \"Desarrollo Web Avanzado\",\n",
    "    \"Bases de Datos y Administración\",\n",
    "    \"Programación en Sistemas Embebidos\",\n",
    "]\n",
    "\n",
    "df = pd.DataFrame({\"text\": corpus, \"vector\": cls_components})\n",
    "df[\"author\"] = np.random.choice(names, size=len(df))\n",
    "df[\"subject\"] = np.random.choice(subjects, size=len(df))\n",
    "df[\"code_language\"] = \"Python\"\n",
    "df[\"lines_of_code\"] = df[\"text\"].str.split(\"\\n\").apply(len)\n",
    "df[\"date\"] = pd.to_datetime(\n",
    "    pd.Series(dates),\n",
    "    format=\"%d-%m-%Y %H:%M\",\n",
    ")\n",
    "\n",
    "df.to_parquet(\"output_data/dataframe_text_embeddings.parquet\")"
   ]
  },
  {
   "cell_type": "code",
   "execution_count": 27,
   "metadata": {},
   "outputs": [
    {
     "data": {
      "text/html": [
       "<div>\n",
       "<style scoped>\n",
       "    .dataframe tbody tr th:only-of-type {\n",
       "        vertical-align: middle;\n",
       "    }\n",
       "\n",
       "    .dataframe tbody tr th {\n",
       "        vertical-align: top;\n",
       "    }\n",
       "\n",
       "    .dataframe thead th {\n",
       "        text-align: right;\n",
       "    }\n",
       "</style>\n",
       "<table border=\"1\" class=\"dataframe\">\n",
       "  <thead>\n",
       "    <tr style=\"text-align: right;\">\n",
       "      <th></th>\n",
       "      <th>text</th>\n",
       "      <th>vector</th>\n",
       "      <th>author</th>\n",
       "      <th>subject</th>\n",
       "      <th>code_language</th>\n",
       "      <th>lines_of_code</th>\n",
       "    </tr>\n",
       "  </thead>\n",
       "  <tbody>\n",
       "    <tr>\n",
       "      <th>0</th>\n",
       "      <td>class Solution(object):\\n    def climbStairs(s...</td>\n",
       "      <td>[-0.21761193871498108, -0.006907954812049866, ...</td>\n",
       "      <td>Ana Martínez Fernández</td>\n",
       "      <td>Desarrollo Web Avanzado</td>\n",
       "      <td>Python</td>\n",
       "      <td>15</td>\n",
       "    </tr>\n",
       "    <tr>\n",
       "      <th>1</th>\n",
       "      <td>def calculate_area(height, l, r):\\n    return ...</td>\n",
       "      <td>[-0.17671486735343933, -0.11769969761371613, -...</td>\n",
       "      <td>Ana Martínez Fernández</td>\n",
       "      <td>Estructuras de Datos y Algoritmos</td>\n",
       "      <td>Python</td>\n",
       "      <td>28</td>\n",
       "    </tr>\n",
       "    <tr>\n",
       "      <th>2</th>\n",
       "      <td>class Solution:\\n    def rob(self, nums) -&gt; in...</td>\n",
       "      <td>[-0.11747059971094131, -0.04676730930805206, -...</td>\n",
       "      <td>Ana Martínez Fernández</td>\n",
       "      <td>Estructuras de Datos y Algoritmos</td>\n",
       "      <td>Python</td>\n",
       "      <td>15</td>\n",
       "    </tr>\n",
       "    <tr>\n",
       "      <th>3</th>\n",
       "      <td># Definition for singly-linked list.\\n# class ...</td>\n",
       "      <td>[-0.21408772468566895, -0.02248210459947586, -...</td>\n",
       "      <td>Alejandro Pérez García</td>\n",
       "      <td>Bases de Datos y Administración</td>\n",
       "      <td>Python</td>\n",
       "      <td>24</td>\n",
       "    </tr>\n",
       "    <tr>\n",
       "      <th>4</th>\n",
       "      <td>class Solution:\\n    def longestPalindrome(sel...</td>\n",
       "      <td>[-0.35301244258880615, -0.0692468136548996, -0...</td>\n",
       "      <td>María Rodríguez López</td>\n",
       "      <td>Programación Orientada a Objetos (POO)</td>\n",
       "      <td>Python</td>\n",
       "      <td>28</td>\n",
       "    </tr>\n",
       "  </tbody>\n",
       "</table>\n",
       "</div>"
      ],
      "text/plain": [
       "                                                text   \n",
       "0  class Solution(object):\\n    def climbStairs(s...  \\\n",
       "1  def calculate_area(height, l, r):\\n    return ...   \n",
       "2  class Solution:\\n    def rob(self, nums) -> in...   \n",
       "3  # Definition for singly-linked list.\\n# class ...   \n",
       "4  class Solution:\\n    def longestPalindrome(sel...   \n",
       "\n",
       "                                              vector                  author   \n",
       "0  [-0.21761193871498108, -0.006907954812049866, ...  Ana Martínez Fernández  \\\n",
       "1  [-0.17671486735343933, -0.11769969761371613, -...  Ana Martínez Fernández   \n",
       "2  [-0.11747059971094131, -0.04676730930805206, -...  Ana Martínez Fernández   \n",
       "3  [-0.21408772468566895, -0.02248210459947586, -...  Alejandro Pérez García   \n",
       "4  [-0.35301244258880615, -0.0692468136548996, -0...   María Rodríguez López   \n",
       "\n",
       "                                  subject code_language  lines_of_code  \n",
       "0                 Desarrollo Web Avanzado        Python             15  \n",
       "1       Estructuras de Datos y Algoritmos        Python             28  \n",
       "2       Estructuras de Datos y Algoritmos        Python             15  \n",
       "3         Bases de Datos y Administración        Python             24  \n",
       "4  Programación Orientada a Objetos (POO)        Python             28  "
      ]
     },
     "execution_count": 27,
     "metadata": {},
     "output_type": "execute_result"
    }
   ],
   "source": [
    "import pandas as pd\n",
    "import numpy as np\n",
    "\n",
    "df = pd.read_parquet(\"output_data/dataframe_text_embeddings.parquet\")\n",
    "df.head()"
   ]
  },
  {
   "cell_type": "code",
   "execution_count": 28,
   "metadata": {},
   "outputs": [],
   "source": [
    "df[\"date\"] = pd.to_datetime(\n",
    "    pd.Series(dates),\n",
    "    format=\"%d-%m-%Y %H:%M\",\n",
    ")"
   ]
  },
  {
   "cell_type": "code",
   "execution_count": 30,
   "metadata": {},
   "outputs": [],
   "source": [
    "df.to_parquet(\"output_data/dataframe_text_embeddings.parquet\")"
   ]
  }
 ],
 "metadata": {
  "kernelspec": {
   "display_name": "nlp",
   "language": "python",
   "name": "python3"
  },
  "language_info": {
   "codemirror_mode": {
    "name": "ipython",
    "version": 3
   },
   "file_extension": ".py",
   "mimetype": "text/x-python",
   "name": "python",
   "nbconvert_exporter": "python",
   "pygments_lexer": "ipython3",
   "version": "3.10.11"
  },
  "orig_nbformat": 4
 },
 "nbformat": 4,
 "nbformat_minor": 2
}
