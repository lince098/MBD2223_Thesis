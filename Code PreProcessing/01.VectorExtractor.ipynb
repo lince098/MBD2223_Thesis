{
 "cells": [
  {
   "cell_type": "code",
   "execution_count": 1,
   "metadata": {},
   "outputs": [],
   "source": [
    "from transformers import pipeline\n",
    "import os\n",
    "# from dask.distributed import Client\n",
    "from pathlib import Path\n",
    "import re\n",
    "\n",
    "pipe = pipeline(\"feature-extraction\", model=\"microsoft/codebert-base\")"
   ]
  },
  {
   "cell_type": "markdown",
   "metadata": {},
   "source": [
    "### Why CodeBert?\n",
    "Codebert is a model trained on both comments (of the code) and code. [Model](https://huggingface.co/microsoft/codebert-base). [Data](https://github.com/github/CodeSearchNet#data)."
   ]
  },
  {
   "cell_type": "code",
   "execution_count": 2,
   "metadata": {},
   "outputs": [
    {
     "data": {
      "text/plain": [
       "(2, 1, 4)"
      ]
     },
     "execution_count": 2,
     "metadata": {},
     "output_type": "execute_result"
    }
   ],
   "source": [
    "vector = pipe([\"import os\", \"a\"])\n",
    "len(vector), len(vector[0]), len(vector[0][0])"
   ]
  },
  {
   "cell_type": "markdown",
   "metadata": {},
   "source": [
    "# Job"
   ]
  },
  {
   "cell_type": "code",
   "execution_count": 3,
   "metadata": {},
   "outputs": [],
   "source": [
    "path_dir = \"./input_data/\""
   ]
  },
  {
   "cell_type": "code",
   "execution_count": 4,
   "metadata": {},
   "outputs": [
    {
     "name": "stdout",
     "output_type": "stream",
     "text": [
      "[WindowsPath('input_data/ClimbingStairs.py'), WindowsPath('input_data/Containers.py'), WindowsPath('input_data/HouseRobberDynProg.py')]\n"
     ]
    }
   ],
   "source": [
    "all_files = [Path(path_dir + x) for x in os.listdir(path_dir)]\n",
    "print(all_files[:3])"
   ]
  },
  {
   "cell_type": "code",
   "execution_count": 5,
   "metadata": {},
   "outputs": [],
   "source": [
    "def get_texts(filepath):\n",
    "    with open(filepath) as file:  \n",
    "        return file.read()"
   ]
  },
  {
   "cell_type": "code",
   "execution_count": 6,
   "metadata": {},
   "outputs": [
    {
     "name": "stdout",
     "output_type": "stream",
     "text": [
      "12 1 192 768\n",
      "12 768\n"
     ]
    }
   ],
   "source": [
    "corpus = [get_texts(path) for path in all_files]\n",
    "embeddings = [out for out in pipe(corpus, padding=True, truncation=True)]\n",
    "print(\n",
    "    len(embeddings), len(embeddings[0]), len(embeddings[0][0]), len(embeddings[0][0][0])\n",
    ")\n",
    "cls_components = [x[0][0] for x in embeddings]\n",
    "print(len(cls_components), len(cls_components[0]))"
   ]
  },
  {
   "cell_type": "code",
   "execution_count": 7,
   "metadata": {},
   "outputs": [],
   "source": [
    "import pandas as pd\n",
    "\n",
    "df = pd.DataFrame({\"text\": corpus, \"vector\": cls_components})\n",
    "\n",
    "df.to_parquet(\"output_data/dataframe_text_embeddings.parquet\")"
   ]
  }
 ],
 "metadata": {
  "kernelspec": {
   "display_name": "nlp",
   "language": "python",
   "name": "python3"
  },
  "language_info": {
   "codemirror_mode": {
    "name": "ipython",
    "version": 3
   },
   "file_extension": ".py",
   "mimetype": "text/x-python",
   "name": "python",
   "nbconvert_exporter": "python",
   "pygments_lexer": "ipython3",
   "version": "3.10.11"
  },
  "orig_nbformat": 4
 },
 "nbformat": 4,
 "nbformat_minor": 2
}
