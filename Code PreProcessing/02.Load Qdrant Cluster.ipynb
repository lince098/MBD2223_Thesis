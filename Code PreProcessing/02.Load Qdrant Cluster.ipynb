{
 "cells": [
  {
   "cell_type": "code",
   "execution_count": 1,
   "metadata": {},
   "outputs": [],
   "source": [
    "import pandas as pd\n",
    "from qdrant_client import QdrantClient\n",
    "from qdrant_client.models import Distance, VectorParams, PointStruct\n",
    "from transformers import pipeline"
   ]
  },
  {
   "cell_type": "code",
   "execution_count": 2,
   "metadata": {},
   "outputs": [],
   "source": [
    "pipe = pipeline(\"feature-extraction\", model=\"microsoft/codebert-base\")\n",
    "df = pd.read_parquet(\"output_data/dataframe_text_embeddings.parquet\")\n",
    "qdrant = QdrantClient(\"localhost\", port=6333)"
   ]
  },
  {
   "cell_type": "code",
   "execution_count": 20,
   "metadata": {},
   "outputs": [
    {
     "data": {
      "text/html": [
       "<div>\n",
       "<style scoped>\n",
       "    .dataframe tbody tr th:only-of-type {\n",
       "        vertical-align: middle;\n",
       "    }\n",
       "\n",
       "    .dataframe tbody tr th {\n",
       "        vertical-align: top;\n",
       "    }\n",
       "\n",
       "    .dataframe thead th {\n",
       "        text-align: right;\n",
       "    }\n",
       "</style>\n",
       "<table border=\"1\" class=\"dataframe\">\n",
       "  <thead>\n",
       "    <tr style=\"text-align: right;\">\n",
       "      <th></th>\n",
       "      <th>text</th>\n",
       "      <th>vector</th>\n",
       "    </tr>\n",
       "  </thead>\n",
       "  <tbody>\n",
       "    <tr>\n",
       "      <th>0</th>\n",
       "      <td>class Solution(object):\\n    def climbStairs(s...</td>\n",
       "      <td>[-0.21761193871498108, -0.006907954812049866, ...</td>\n",
       "    </tr>\n",
       "    <tr>\n",
       "      <th>1</th>\n",
       "      <td>def calculate_area(height, l, r):\\n    return ...</td>\n",
       "      <td>[-0.17671486735343933, -0.11769969761371613, -...</td>\n",
       "    </tr>\n",
       "    <tr>\n",
       "      <th>2</th>\n",
       "      <td>class Solution:\\n    def rob(self, nums) -&gt; in...</td>\n",
       "      <td>[-0.11747059971094131, -0.04676730930805206, -...</td>\n",
       "    </tr>\n",
       "    <tr>\n",
       "      <th>3</th>\n",
       "      <td># Definition for singly-linked list.\\n# class ...</td>\n",
       "      <td>[-0.21408772468566895, -0.02248210459947586, -...</td>\n",
       "    </tr>\n",
       "    <tr>\n",
       "      <th>4</th>\n",
       "      <td>class Solution:\\n    def longestPalindrome(sel...</td>\n",
       "      <td>[-0.35301244258880615, -0.0692468136548996, -0...</td>\n",
       "    </tr>\n",
       "  </tbody>\n",
       "</table>\n",
       "</div>"
      ],
      "text/plain": [
       "                                                text   \n",
       "0  class Solution(object):\\n    def climbStairs(s...  \\\n",
       "1  def calculate_area(height, l, r):\\n    return ...   \n",
       "2  class Solution:\\n    def rob(self, nums) -> in...   \n",
       "3  # Definition for singly-linked list.\\n# class ...   \n",
       "4  class Solution:\\n    def longestPalindrome(sel...   \n",
       "\n",
       "                                              vector  \n",
       "0  [-0.21761193871498108, -0.006907954812049866, ...  \n",
       "1  [-0.17671486735343933, -0.11769969761371613, -...  \n",
       "2  [-0.11747059971094131, -0.04676730930805206, -...  \n",
       "3  [-0.21408772468566895, -0.02248210459947586, -...  \n",
       "4  [-0.35301244258880615, -0.0692468136548996, -0...  "
      ]
     },
     "execution_count": 20,
     "metadata": {},
     "output_type": "execute_result"
    }
   ],
   "source": [
    "df.head()"
   ]
  },
  {
   "cell_type": "code",
   "execution_count": 3,
   "metadata": {},
   "outputs": [
    {
     "data": {
      "text/plain": [
       "768"
      ]
     },
     "execution_count": 3,
     "metadata": {},
     "output_type": "execute_result"
    }
   ],
   "source": [
    "collection_name = \"code\"\n",
    "vector_len = len(df.iloc[0][1])\n",
    "vector_len"
   ]
  },
  {
   "cell_type": "code",
   "execution_count": 4,
   "metadata": {},
   "outputs": [],
   "source": [
    "try:\n",
    "    qdrant.recreate_collection(\n",
    "        collection_name=collection_name,\n",
    "        vectors_config=VectorParams(size=vector_len, distance=Distance.COSINE),\n",
    "        replication_factor=2,\n",
    "        shard_number=6,\n",
    "    )\n",
    "except Exception as e:\n",
    "    pass"
   ]
  },
  {
   "cell_type": "code",
   "execution_count": 6,
   "metadata": {},
   "outputs": [],
   "source": [
    "batch_size = 100\n",
    "\n",
    "for i in range(0, len(df.index), batch_size):\n",
    "    pos_final = min(i + batch_size, len(df.index))\n",
    "\n",
    "    chunk = df.iloc[i:pos_final]\n",
    "\n",
    "    qdrant.upsert(\n",
    "        collection_name=collection_name,\n",
    "        points=[\n",
    "            PointStruct(\n",
    "                id=idx,\n",
    "                vector=row[\"vector\"].tolist(),\n",
    "                payload={\"answer\": row[\"text\"]},\n",
    "            )\n",
    "            for idx, row in chunk.iterrows()\n",
    "        ],\n",
    "    )"
   ]
  }
 ],
 "metadata": {
  "kernelspec": {
   "display_name": "nlp",
   "language": "python",
   "name": "python3"
  },
  "language_info": {
   "codemirror_mode": {
    "name": "ipython",
    "version": 3
   },
   "file_extension": ".py",
   "mimetype": "text/x-python",
   "name": "python",
   "nbconvert_exporter": "python",
   "pygments_lexer": "ipython3",
   "version": "3.10.11"
  },
  "orig_nbformat": 4
 },
 "nbformat": 4,
 "nbformat_minor": 2
}
