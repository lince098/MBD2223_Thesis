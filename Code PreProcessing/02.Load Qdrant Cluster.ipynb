{
 "cells": [
  {
   "cell_type": "code",
   "execution_count": 37,
   "metadata": {},
   "outputs": [
    {
     "data": {
      "text/plain": [
       "'4.37.0.dev0'"
      ]
     },
     "execution_count": 37,
     "metadata": {},
     "output_type": "execute_result"
    }
   ],
   "source": [
    "import pandas as pd\n",
    "from qdrant_client import QdrantClient\n",
    "from qdrant_client.models import Distance, VectorParams, PointStruct\n",
    "from transformers import pipeline, __version__ as tfs_version\n",
    "\n",
    "tfs_version"
   ]
  },
  {
   "cell_type": "code",
   "execution_count": 38,
   "metadata": {},
   "outputs": [],
   "source": [
    "pipe = pipeline(\"feature-extraction\", model=\"microsoft/codebert-base\")"
   ]
  },
  {
   "cell_type": "code",
   "execution_count": 39,
   "metadata": {},
   "outputs": [],
   "source": [
    "qdrant = QdrantClient(\"localhost\", port=6333, timeout=100000)"
   ]
  },
  {
   "cell_type": "code",
   "execution_count": 40,
   "metadata": {},
   "outputs": [],
   "source": [
    "df = pd.read_parquet(\"output_data/dataframe_text_embeddings.parquet\")"
   ]
  },
  {
   "cell_type": "code",
   "execution_count": 41,
   "metadata": {},
   "outputs": [
    {
     "data": {
      "text/html": [
       "<div>\n",
       "<style scoped>\n",
       "    .dataframe tbody tr th:only-of-type {\n",
       "        vertical-align: middle;\n",
       "    }\n",
       "\n",
       "    .dataframe tbody tr th {\n",
       "        vertical-align: top;\n",
       "    }\n",
       "\n",
       "    .dataframe thead th {\n",
       "        text-align: right;\n",
       "    }\n",
       "</style>\n",
       "<table border=\"1\" class=\"dataframe\">\n",
       "  <thead>\n",
       "    <tr style=\"text-align: right;\">\n",
       "      <th></th>\n",
       "      <th>text</th>\n",
       "      <th>vector</th>\n",
       "      <th>file_name</th>\n",
       "      <th>author</th>\n",
       "      <th>subject</th>\n",
       "      <th>code_language</th>\n",
       "      <th>lines_of_code</th>\n",
       "      <th>date</th>\n",
       "    </tr>\n",
       "  </thead>\n",
       "  <tbody>\n",
       "    <tr>\n",
       "      <th>0</th>\n",
       "      <td>class Solution(object):\\n    def fibonacci(sel...</td>\n",
       "      <td>[-0.20388200879096985, 0.006657123565673828, -...</td>\n",
       "      <td>ClimbingStairs.py</td>\n",
       "      <td>Alejandro Pérez García</td>\n",
       "      <td>Bases de Datos y Administración</td>\n",
       "      <td>Python</td>\n",
       "      <td>15</td>\n",
       "      <td>2023-10-03 09:15:00</td>\n",
       "    </tr>\n",
       "    <tr>\n",
       "      <th>1</th>\n",
       "      <td>def calculate_area(height, l, r):\\n    return ...</td>\n",
       "      <td>[-0.17179635167121887, -0.12407292425632477, -...</td>\n",
       "      <td>Containers.py</td>\n",
       "      <td>Ana Martínez Fernández</td>\n",
       "      <td>Programación Orientada a Objetos (POO)</td>\n",
       "      <td>Python</td>\n",
       "      <td>28</td>\n",
       "      <td>2023-10-09 14:30:00</td>\n",
       "    </tr>\n",
       "    <tr>\n",
       "      <th>2</th>\n",
       "      <td>class Solution(object):\\n    def containsDupli...</td>\n",
       "      <td>[-0.24347487092018127, -0.02925797551870346, -...</td>\n",
       "      <td>ContainsDuplicate.py</td>\n",
       "      <td>Juan García Sánchez</td>\n",
       "      <td>Desarrollo Web Avanzado</td>\n",
       "      <td>Python</td>\n",
       "      <td>13</td>\n",
       "      <td>2023-10-15 18:45:00</td>\n",
       "    </tr>\n",
       "    <tr>\n",
       "      <th>3</th>\n",
       "      <td>class Solution:\\n    def rob(self, nums) -&gt; in...</td>\n",
       "      <td>[-0.11747059971094131, -0.04676730930805206, -...</td>\n",
       "      <td>HouseRobberDynProg.py</td>\n",
       "      <td>Ana Martínez Fernández</td>\n",
       "      <td>Programación en Sistemas Embebidos</td>\n",
       "      <td>Python</td>\n",
       "      <td>15</td>\n",
       "      <td>2023-10-21 11:20:00</td>\n",
       "    </tr>\n",
       "    <tr>\n",
       "      <th>4</th>\n",
       "      <td># Definition for singly-linked list.\\n# class ...</td>\n",
       "      <td>[-0.21408772468566895, -0.02248210459947586, -...</td>\n",
       "      <td>LinkedListCycle.py</td>\n",
       "      <td>Ana Martínez Fernández</td>\n",
       "      <td>Desarrollo Web Avanzado</td>\n",
       "      <td>Python</td>\n",
       "      <td>24</td>\n",
       "      <td>2023-11-05 20:00:00</td>\n",
       "    </tr>\n",
       "  </tbody>\n",
       "</table>\n",
       "</div>"
      ],
      "text/plain": [
       "                                                text   \n",
       "0  class Solution(object):\\n    def fibonacci(sel...  \\\n",
       "1  def calculate_area(height, l, r):\\n    return ...   \n",
       "2  class Solution(object):\\n    def containsDupli...   \n",
       "3  class Solution:\\n    def rob(self, nums) -> in...   \n",
       "4  # Definition for singly-linked list.\\n# class ...   \n",
       "\n",
       "                                              vector              file_name   \n",
       "0  [-0.20388200879096985, 0.006657123565673828, -...      ClimbingStairs.py  \\\n",
       "1  [-0.17179635167121887, -0.12407292425632477, -...          Containers.py   \n",
       "2  [-0.24347487092018127, -0.02925797551870346, -...   ContainsDuplicate.py   \n",
       "3  [-0.11747059971094131, -0.04676730930805206, -...  HouseRobberDynProg.py   \n",
       "4  [-0.21408772468566895, -0.02248210459947586, -...     LinkedListCycle.py   \n",
       "\n",
       "                   author                                 subject   \n",
       "0  Alejandro Pérez García         Bases de Datos y Administración  \\\n",
       "1  Ana Martínez Fernández  Programación Orientada a Objetos (POO)   \n",
       "2     Juan García Sánchez                 Desarrollo Web Avanzado   \n",
       "3  Ana Martínez Fernández      Programación en Sistemas Embebidos   \n",
       "4  Ana Martínez Fernández                 Desarrollo Web Avanzado   \n",
       "\n",
       "  code_language  lines_of_code                 date  \n",
       "0        Python             15  2023-10-03 09:15:00  \n",
       "1        Python             28  2023-10-09 14:30:00  \n",
       "2        Python             13  2023-10-15 18:45:00  \n",
       "3        Python             15  2023-10-21 11:20:00  \n",
       "4        Python             24  2023-11-05 20:00:00  "
      ]
     },
     "execution_count": 41,
     "metadata": {},
     "output_type": "execute_result"
    }
   ],
   "source": [
    "df[\"date\"] = df[\"date\"].astype(\"str\")\n",
    "df.head()"
   ]
  },
  {
   "cell_type": "code",
   "execution_count": 42,
   "metadata": {},
   "outputs": [
    {
     "data": {
      "text/plain": [
       "768"
      ]
     },
     "execution_count": 42,
     "metadata": {},
     "output_type": "execute_result"
    }
   ],
   "source": [
    "collection_name = \"code\"\n",
    "vector_len = len(df.iloc[0][1])\n",
    "vector_len"
   ]
  },
  {
   "cell_type": "code",
   "execution_count": 43,
   "metadata": {},
   "outputs": [
    {
     "data": {
      "text/plain": [
       "True"
      ]
     },
     "execution_count": 43,
     "metadata": {},
     "output_type": "execute_result"
    }
   ],
   "source": [
    "qdrant.recreate_collection(\n",
    "    collection_name=collection_name,\n",
    "    vectors_config=VectorParams(size=vector_len, distance=Distance.COSINE),\n",
    "    replication_factor=2,\n",
    "    shard_number=6,\n",
    ")"
   ]
  },
  {
   "cell_type": "code",
   "execution_count": 44,
   "metadata": {},
   "outputs": [],
   "source": [
    "batch_size = 100\n",
    "\n",
    "for i in range(0, len(df.index), batch_size):\n",
    "    pos_final = min(i + batch_size, len(df.index))\n",
    "\n",
    "    chunk = df.iloc[i:pos_final]\n",
    "\n",
    "    qdrant.upsert(\n",
    "        collection_name=collection_name,\n",
    "        points=[\n",
    "            PointStruct(\n",
    "                id=idx,\n",
    "                vector=row[\"vector\"].tolist(),\n",
    "                payload={\n",
    "                    \"text\": row[\"text\"],\n",
    "                    \"author\": row[\"author\"],\n",
    "                    \"subject\": row[\"subject\"],\n",
    "                    \"code_language\": row[\"code_language\"],\n",
    "                    \"lines_of_code\": row[\"lines_of_code\"],\n",
    "                    \"date\": row[\"date\"],\n",
    "                    \"file_name\": row[\"file_name\"],\n",
    "                },\n",
    "            )\n",
    "            for idx, row in chunk.iterrows()\n",
    "        ],\n",
    "    )"
   ]
  },
  {
   "cell_type": "code",
   "execution_count": 45,
   "metadata": {},
   "outputs": [
    {
     "data": {
      "text/plain": [
       "CollectionInfo(status=<CollectionStatus.GREEN: 'green'>, optimizer_status=<OptimizersStatusOneOf.OK: 'ok'>, vectors_count=13, indexed_vectors_count=0, points_count=13, segments_count=48, config=CollectionConfig(params=CollectionParams(vectors=VectorParams(size=768, distance=<Distance.COSINE: 'Cosine'>, hnsw_config=None, quantization_config=None, on_disk=None), shard_number=6, replication_factor=2, write_consistency_factor=1, on_disk_payload=True), hnsw_config=HnswConfig(m=16, ef_construct=100, full_scan_threshold=10000, max_indexing_threads=0, on_disk=False, payload_m=None), optimizer_config=OptimizersConfig(deleted_threshold=0.2, vacuum_min_vector_number=1000, default_segment_number=0, max_segment_size=None, memmap_threshold=None, indexing_threshold=20000, flush_interval_sec=5, max_optimization_threads=1), wal_config=WalConfig(wal_capacity_mb=32, wal_segments_ahead=0), quantization_config=None), payload_schema={})"
      ]
     },
     "execution_count": 45,
     "metadata": {},
     "output_type": "execute_result"
    }
   ],
   "source": [
    "qdrant.get_collection(collection_name=collection_name)"
   ]
  },
  {
   "cell_type": "code",
   "execution_count": 46,
   "metadata": {},
   "outputs": [],
   "source": [
    "search_vector = df[\"vector\"][0]\n",
    "search_vector = search_vector.tolist()"
   ]
  },
  {
   "cell_type": "code",
   "execution_count": 47,
   "metadata": {},
   "outputs": [
    {
     "data": {
      "text/plain": [
       "{'id': 0,\n",
       " 'version': 0,\n",
       " 'score': 1.0,\n",
       " 'payload': {'author': 'Alejandro Pérez García',\n",
       "  'code_language': 'Python',\n",
       "  'date': '2023-10-03 09:15:00',\n",
       "  'file_name': 'ClimbingStairs.py',\n",
       "  'lines_of_code': 15,\n",
       "  'subject': 'Bases de Datos y Administración',\n",
       "  'text': 'class Solution(object):\\n    def fibonacci(self, n):\\n        \"\"\"\\n        :type n: int\\n        :rtype: int\\n        \"\"\"\\n        if n == 0 or n == 1:\\n            return 1\\n        prev, curr = 1, 1\\n        for _ in range(2, n + 1):\\n            temp = curr\\n            curr = prev + curr\\n            prev = temp\\n        return curr\\n'},\n",
       " 'vector': None}"
      ]
     },
     "execution_count": 47,
     "metadata": {},
     "output_type": "execute_result"
    }
   ],
   "source": [
    "scored_point = qdrant.search(collection_name, search_vector, limit=1)[0]\n",
    "scored_point.model_dump()"
   ]
  },
  {
   "cell_type": "code",
   "execution_count": 48,
   "metadata": {},
   "outputs": [
    {
     "name": "stdout",
     "output_type": "stream",
     "text": [
      "class Solution(object):\n",
      "    def fibonacci(self, n):\n",
      "        \"\"\"\n",
      "        :type n: int\n",
      "        :rtype: int\n",
      "        \"\"\"\n",
      "        if n == 0 or n == 1:\n",
      "            return 1\n",
      "        prev, curr = 1, 1\n",
      "        for _ in range(2, n + 1):\n",
      "            temp = curr\n",
      "            curr = prev + curr\n",
      "            prev = temp\n",
      "        return curr\n",
      "\n"
     ]
    }
   ],
   "source": [
    "print(scored_point.payload[\"text\"])"
   ]
  }
 ],
 "metadata": {
  "kernelspec": {
   "display_name": "nlp",
   "language": "python",
   "name": "python3"
  },
  "language_info": {
   "codemirror_mode": {
    "name": "ipython",
    "version": 3
   },
   "file_extension": ".py",
   "mimetype": "text/x-python",
   "name": "python",
   "nbconvert_exporter": "python",
   "pygments_lexer": "ipython3",
   "version": "3.10.11"
  },
  "orig_nbformat": 4
 },
 "nbformat": 4,
 "nbformat_minor": 2
}
