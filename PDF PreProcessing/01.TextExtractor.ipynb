{
 "cells": [
  {
   "cell_type": "code",
   "execution_count": 8,
   "metadata": {},
   "outputs": [],
   "source": [
    "import fitz\n",
    "import os\n",
    "from dask.distributed import Client\n",
    "from pathlib import Path\n",
    "import re"
   ]
  },
  {
   "cell_type": "code",
   "execution_count": 9,
   "metadata": {},
   "outputs": [],
   "source": [
    "dask_client = Client()"
   ]
  },
  {
   "cell_type": "code",
   "execution_count": 14,
   "metadata": {},
   "outputs": [],
   "source": [
    "path_dir = \"./input_data/\""
   ]
  },
  {
   "cell_type": "code",
   "execution_count": 16,
   "metadata": {},
   "outputs": [
    {
     "name": "stdout",
     "output_type": "stream",
     "text": [
      "[WindowsPath('input_data/cangrejos copy 2.pdf'), WindowsPath('input_data/cangrejos copy 3.pdf'), WindowsPath('input_data/cangrejos copy 4.pdf')]\n"
     ]
    }
   ],
   "source": [
    "all_files = [Path(path_dir + x) for x in os.listdir(path_dir)]\n",
    "print(all_files[:3])"
   ]
  },
  {
   "cell_type": "code",
   "execution_count": 2,
   "metadata": {},
   "outputs": [],
   "source": [
    "def get_output_path(filepath: Path):\n",
    "    return Path(\"txt\") / (filepath.name.split(\".\")[0] + \".txt\")\n",
    "\n",
    "\n",
    "def extract_text(filepath: str):\n",
    "    doc = fitz.open(filepath)  # open a document\n",
    "    output_path = get_output_path(filepath)\n",
    "    out = open(output_path, \"wb\")  # create a text output\n",
    "    for page in doc:  # iterate the document pages\n",
    "        text = page.get_text()  # get plain text (is in UTF-8)\n",
    "        out.write(text.encode(\"utf8\"))\n",
    "    out.close()"
   ]
  },
  {
   "cell_type": "code",
   "execution_count": 11,
   "metadata": {},
   "outputs": [],
   "source": [
    "futures = dask_client.map(extract_text, all_files)\n",
    "dask_client.gather(futures)\n",
    "dask_client.close()"
   ]
  }
 ],
 "metadata": {
  "kernelspec": {
   "display_name": "nlp",
   "language": "python",
   "name": "python3"
  },
  "language_info": {
   "codemirror_mode": {
    "name": "ipython",
    "version": 3
   },
   "file_extension": ".py",
   "mimetype": "text/x-python",
   "name": "python",
   "nbconvert_exporter": "python",
   "pygments_lexer": "ipython3",
   "version": "3.10.11"
  },
  "orig_nbformat": 4
 },
 "nbformat": 4,
 "nbformat_minor": 2
}
