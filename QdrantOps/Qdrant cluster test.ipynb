{
 "cells": [
  {
   "cell_type": "code",
   "execution_count": 7,
   "metadata": {},
   "outputs": [],
   "source": [
    "from qdrant_client import QdrantClient\n",
    "import requests\n",
    "import json\n"
   ]
  },
  {
   "cell_type": "code",
   "execution_count": 2,
   "metadata": {},
   "outputs": [],
   "source": [
    "client = QdrantClient(\"localhost\", port=6333)"
   ]
  },
  {
   "cell_type": "code",
   "execution_count": 3,
   "metadata": {},
   "outputs": [
    {
     "data": {
      "text/plain": [
       "{'6799620734566579487': {'uri': 'http://qdrant1:6335/'},\n",
       " '776149857375506904': {'uri': 'http://172.19.0.4:6335/'},\n",
       " '404229865674567914': {'uri': 'http://172.19.0.3:6335/'}}"
      ]
     },
     "execution_count": 3,
     "metadata": {},
     "output_type": "execute_result"
    }
   ],
   "source": [
    "response = requests.get(\"http://localhost:6333/cluster\")\n",
    "response.json()[\"result\"][\"peers\"]"
   ]
  },
  {
   "cell_type": "code",
   "execution_count": 4,
   "metadata": {},
   "outputs": [
    {
     "data": {
      "text/plain": [
       "CollectionsResponse(collections=[CollectionDescription(name='code')])"
      ]
     },
     "execution_count": 4,
     "metadata": {},
     "output_type": "execute_result"
    }
   ],
   "source": [
    "client.get_collections()"
   ]
  },
  {
   "cell_type": "code",
   "execution_count": 11,
   "metadata": {},
   "outputs": [
    {
     "data": {
      "text/plain": [
       "{'status': 'green',\n",
       " 'optimizer_status': 'ok',\n",
       " 'vectors_count': 12,\n",
       " 'indexed_vectors_count': 0,\n",
       " 'points_count': 12,\n",
       " 'segments_count': 48,\n",
       " 'config': {'params': {'vectors': {'size': 768,\n",
       "    'distance': 'Cosine',\n",
       "    'hnsw_config': None,\n",
       "    'quantization_config': None,\n",
       "    'on_disk': None},\n",
       "   'shard_number': 6,\n",
       "   'replication_factor': 2,\n",
       "   'write_consistency_factor': 1,\n",
       "   'on_disk_payload': True},\n",
       "  'hnsw_config': {'m': 16,\n",
       "   'ef_construct': 100,\n",
       "   'full_scan_threshold': 10000,\n",
       "   'max_indexing_threads': 0,\n",
       "   'on_disk': False,\n",
       "   'payload_m': None},\n",
       "  'optimizer_config': {'deleted_threshold': 0.2,\n",
       "   'vacuum_min_vector_number': 1000,\n",
       "   'default_segment_number': 0,\n",
       "   'max_segment_size': None,\n",
       "   'memmap_threshold': None,\n",
       "   'indexing_threshold': 20000,\n",
       "   'flush_interval_sec': 5,\n",
       "   'max_optimization_threads': 1},\n",
       "  'wal_config': {'wal_capacity_mb': 32, 'wal_segments_ahead': 0},\n",
       "  'quantization_config': None},\n",
       " 'payload_schema': {}}"
      ]
     },
     "execution_count": 11,
     "metadata": {},
     "output_type": "execute_result"
    }
   ],
   "source": [
    "json.loads(client.get_collection(\"code\").json())"
   ]
  }
 ],
 "metadata": {
  "kernelspec": {
   "display_name": "nlp",
   "language": "python",
   "name": "python3"
  },
  "language_info": {
   "codemirror_mode": {
    "name": "ipython",
    "version": 3
   },
   "file_extension": ".py",
   "mimetype": "text/x-python",
   "name": "python",
   "nbconvert_exporter": "python",
   "pygments_lexer": "ipython3",
   "version": "3.10.11"
  },
  "orig_nbformat": 4
 },
 "nbformat": 4,
 "nbformat_minor": 2
}
