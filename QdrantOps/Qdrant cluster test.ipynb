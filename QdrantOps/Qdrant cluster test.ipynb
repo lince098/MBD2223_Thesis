{
 "cells": [
  {
   "cell_type": "code",
   "execution_count": 5,
   "metadata": {},
   "outputs": [],
   "source": [
    "from qdrant_client import QdrantClient\n",
    "import requests"
   ]
  },
  {
   "cell_type": "code",
   "execution_count": 2,
   "metadata": {},
   "outputs": [],
   "source": [
    "client = QdrantClient(\"localhost\", port=6333)"
   ]
  },
  {
   "cell_type": "code",
   "execution_count": 7,
   "metadata": {},
   "outputs": [
    {
     "data": {
      "text/plain": [
       "{'result': {'status': 'enabled',\n",
       "  'peer_id': 6799620734566579487,\n",
       "  'peers': {'404229865674567914': {'uri': 'http://172.19.0.3:6335/'},\n",
       "   '6799620734566579487': {'uri': 'http://qdrant1:6335/'}},\n",
       "  'raft_info': {'term': 1,\n",
       "   'commit': 3,\n",
       "   'pending_operations': 0,\n",
       "   'leader': 6799620734566579487,\n",
       "   'role': 'Leader',\n",
       "   'is_voter': True},\n",
       "  'consensus_thread_status': {'consensus_thread_status': 'working',\n",
       "   'last_update': '2023-09-15T12:48:02.008188933Z'},\n",
       "  'message_send_failures': {}},\n",
       " 'status': 'ok',\n",
       " 'time': 1.5811e-05}"
      ]
     },
     "execution_count": 7,
     "metadata": {},
     "output_type": "execute_result"
    }
   ],
   "source": [
    "response = requests.get(\"http://localhost:6333/cluster\")\n",
    "response.json()"
   ]
  }
 ],
 "metadata": {
  "kernelspec": {
   "display_name": "nlp",
   "language": "python",
   "name": "python3"
  },
  "language_info": {
   "codemirror_mode": {
    "name": "ipython",
    "version": 3
   },
   "file_extension": ".py",
   "mimetype": "text/x-python",
   "name": "python",
   "nbconvert_exporter": "python",
   "pygments_lexer": "ipython3",
   "version": "3.10.11"
  },
  "orig_nbformat": 4
 },
 "nbformat": 4,
 "nbformat_minor": 2
}
